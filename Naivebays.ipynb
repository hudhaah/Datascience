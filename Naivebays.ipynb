{
 "cells": [
  {
   "cell_type": "code",
   "execution_count": 7,
   "id": "8143db75",
   "metadata": {},
   "outputs": [
    {
     "name": "stdout",
     "output_type": "stream",
     "text": [
      "Accuracy:100.00%\n"
     ]
    }
   ],
   "source": [
    "import numpy as np\n",
    "from sklearn import datasets\n",
    "from sklearn.model_selection import train_test_split\n",
    "from sklearn.naive_bayes import GaussianNB\n",
    "from sklearn.metrics import accuracy_score\n",
    "\n",
    "iris=datasets.load_iris()\n",
    "\n",
    "X=iris.data\n",
    "\n",
    "y=iris.target\n",
    "\n",
    "X_train,X_test,y_train,y_test=train_test_split(X,y,test_size=0.2,random_state=42)\n",
    "\n",
    "nb_classifier=GaussianNB()\n",
    "\n",
    "nb_classifier.fit(X_train,y_train)\n",
    "\n",
    "y_pred=nb_classifier.predict(X_test)\n",
    "\n",
    "accuracy=accuracy_score(y_test,y_pred)\n",
    "\n",
    "print(f\"Accuracy:{accuracy*100:.2f}%\")"
   ]
  },
  {
   "cell_type": "code",
   "execution_count": 5,
   "id": "5e48beeb",
   "metadata": {},
   "outputs": [
    {
     "data": {
      "image/png": "[encoded data removed]",
      "text/plain": [
       "<Figure size 640x480 with 1 Axes>"
      ]
     },
     "metadata": {},
     "output_type": "display_data"
    }
   ],
   "source": [
    "import numpy as np\n",
    "import matplotlib.pyplot as plt\n",
    "from sklearn.naive_bayes import GaussianNB\n",
    "\n",
    "# Sample data\n",
    "x = np.array([1, 2, 3, 4, 5])\n",
    "y = np.array([1, 4, 12, 16, 25])\n",
    "classes = np.array([0, 0, 1, 1, 0])  \n",
    "\n",
    "# Combine x and y into a feature matrix\n",
    "X_train = np.column_stack((x, y))\n",
    "\n",
    "# Initialize the Gaussian Naive Bayes classifier\n",
    "gnb = GaussianNB()\n",
    "\n",
    "# Fit the model\n",
    "gnb.fit(X_train, classes)\n",
    "\n",
    "# New data point\n",
    "new_x = 3\n",
    "new_y = 10\n",
    "new_point = np.array([[new_x, new_y]])\n",
    "                                                  \n",
    "# Predict the class for the new point\n",
    "prediction = gnb.predict(new_point)\n",
    "\n",
    "# Define colors for different classes\n",
    "class_colors = {0: 'blue', 1: 'red'}\n",
    "\n",
    "# Plot the training data\n",
    "plt.scatter(x, y, c=[class_colors[c] for c in classes], label='Training Data', edgecolor='k')\n",
    "\n",
    "# Plot the new data point\n",
    "plt.scatter(new_x, new_y, c=class_colors[prediction[0]], marker='o', s=200, edgecolor='k', label='New Point')\n",
    "\n",
    "# Add text annotation for the new point\n",
    "plt.text(x=new_x-1.0, y=new_y-0.9, s=f\"new point, class: {prediction[0]}\", fontsize=20)\n",
    "\n",
    "# Set labels and legend\n",
    "plt.xlabel('x')\n",
    "plt.ylabel('y')\n",
    "plt.legend()\n",
    "plt.show()\n"
   ]
  },
  {
   "cell_type": "code",
   "execution_count": 1,
   "id": "8f38d5e5",
   "metadata": {},
   "outputs": [
    {
     "name": "stdout",
     "output_type": "stream",
     "text": [
      "KNN Accuracy: 100.00%\n",
      "KNN Predictions: [1 0 2 1 1 0 1 2 1 1 2 0 0 0 0 1 2 1 1 2 0 2 0 2 2 2 2 2 0 0]\n",
      "GNB Accuracy: 100.00%\n",
      "GNB Predictions: [1 0 2 1 1 0 1 2 1 1 2 0 0 0 0 1 2 1 1 2 0 2 0 2 2 2 2 2 0 0]\n"
     ]
    }
   ],
   "source": [
    "import numpy as np\n",
    "from sklearn import datasets\n",
    "from sklearn.model_selection import train_test_split\n",
    "from sklearn.neighbors import KNeighborsClassifier\n",
    "from sklearn.naive_bayes import GaussianNB\n",
    "from sklearn.metrics import accuracy_score\n",
    "\n",
    "# Load the Iris dataset\n",
    "iris = datasets.load_iris()\n",
    "X = iris.data\n",
    "y = iris.target\n",
    "\n",
    "# Split the data into training and testing sets\n",
    "X_train, X_test, y_train, y_test = train_test_split(X, y, test_size=0.2, random_state=42)\n",
    "\n",
    "# Create a K-Nearest Neighbors classifier with k=5\n",
    "knn_classifier = KNeighborsClassifier(n_neighbors=5)\n",
    "\n",
    "# Train the KNN classifier\n",
    "knn_classifier.fit(X_train, y_train)\n",
    "\n",
    "# Make predictions on the test set\n",
    "y_pred_knn = knn_classifier.predict(X_test)\n",
    "\n",
    "# Calculate accuracy\n",
    "accuracy_knn = accuracy_score(y_test, y_pred_knn)\n",
    "print(f\"KNN Accuracy: {accuracy_knn * 100:.2f}%\")\n",
    "\n",
    "# Print predictions\n",
    "print(\"KNN Predictions:\", y_pred_knn)\n",
    "\n",
    "# Create a Gaussian Naive Bayes classifier\n",
    "gnb_classifier = GaussianNB()\n",
    "\n",
    "# Train the GNB classifier\n",
    "gnb_classifier.fit(X_train, y_train)\n",
    "\n",
    "# Make predictions on the test set\n",
    "y_pred_gnb = gnb_classifier.predict(X_test)\n",
    "\n",
    "# Calculate accuracy\n",
    "accuracy_gnb = accuracy_score(y_test, y_pred_gnb)\n",
    "print(f\"GNB Accuracy: {accuracy_gnb * 100:.2f}%\")\n",
    "\n",
    "# Print predictions\n",
    "print(\"GNB Predictions:\", y_pred_gnb)"
   ]
  },
  {
   "cell_type": "code",
   "execution_count": null,
   "id": "b1b65314",
   "metadata": {},
   "outputs": [],
   "source": []
  }
 ],
 "metadata": {
  "kernelspec": {
   "display_name": "Python 3 (ipykernel)",
   "language": "python",
   "name": "python3"
  },
  "language_info": {
   "codemirror_mode": {
    "name": "ipython",
    "version": 3
   },
   "file_extension": ".py",
   "mimetype": "text/x-python",
   "name": "python",
   "nbconvert_exporter": "python",
   "pygments_lexer": "ipython3",
   "version": "3.11.5"
  }
 },
 "nbformat": 4,
 "nbformat_minor": 5
}
